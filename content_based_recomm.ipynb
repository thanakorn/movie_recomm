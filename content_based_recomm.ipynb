{
 "metadata": {
  "language_info": {
   "codemirror_mode": {
    "name": "ipython",
    "version": 3
   },
   "file_extension": ".py",
   "mimetype": "text/x-python",
   "name": "python",
   "nbconvert_exporter": "python",
   "pygments_lexer": "ipython3",
   "version": "3.7.9"
  },
  "orig_nbformat": 4,
  "kernelspec": {
   "name": "python3",
   "display_name": "Python 3.7.9 64-bit ('ml-sandbox': conda)"
  },
  "interpreter": {
   "hash": "63f5c4c81e28ff0238c8c3b729b1fd8b6aec87fa24f076e3e02e721acc6acb72"
  }
 },
 "nbformat": 4,
 "nbformat_minor": 2,
 "cells": [
  {
   "cell_type": "code",
   "execution_count": 1,
   "metadata": {},
   "outputs": [],
   "source": [
    "import pandas as pd\n",
    "import numpy as np\n",
    "from sklearn.feature_extraction.text import TfidfVectorizer, CountVectorizer\n",
    "from sklearn.metrics.pairwise import linear_kernel, cosine_similarity\n",
    "from ast import literal_eval\n",
    "\n",
    "metadata = pd.read_csv('data/movies_metadata.csv', low_memory=False)"
   ]
  },
  {
   "source": [
    "# Using Overview Cosine Similarity"
   ],
   "cell_type": "markdown",
   "metadata": {}
  },
  {
   "cell_type": "code",
   "execution_count": 2,
   "metadata": {},
   "outputs": [
    {
     "output_type": "execute_result",
     "data": {
      "text/plain": [
       "(45466, 75827)"
      ]
     },
     "metadata": {},
     "execution_count": 2
    }
   ],
   "source": [
    "vecotrizer = TfidfVectorizer(stop_words='english')\n",
    "corpus = metadata['overview'].fillna('')\n",
    "tfidf = vecotrizer.fit_transform(corpus)\n",
    "tfidf.shape"
   ]
  },
  {
   "cell_type": "code",
   "execution_count": 3,
   "metadata": {},
   "outputs": [],
   "source": [
    "cos_sim = linear_kernel(tfidf, tfidf)"
   ]
  },
  {
   "cell_type": "code",
   "execution_count": 12,
   "metadata": {},
   "outputs": [],
   "source": [
    "movie_indices = pd.Series(metadata.index, metadata['title'])\n",
    "def get_recommendataions(title, sim_matrix, num_recomm):\n",
    "    idx = movie_indices[title]\n",
    "    similarities = list(enumerate(sim_matrix[idx]))\n",
    "    similarities = sorted(similarities, key=lambda x: x[1], reverse=True)\n",
    "    recomm_movie_indices = [id for id, score in similarities[:num_recomm]]\n",
    "    \n",
    "    return metadata.iloc[recomm_movie_indices]['title']"
   ]
  },
  {
   "cell_type": "code",
   "execution_count": 5,
   "metadata": {
    "tags": []
   },
   "outputs": [
    {
     "output_type": "execute_result",
     "data": {
      "text/plain": [
       "834                         The Godfather\n",
       "1178               The Godfather: Part II\n",
       "44030    The Godfather Trilogy: 1972-1990\n",
       "1914              The Godfather: Part III\n",
       "23126                          Blood Ties\n",
       "11297                    Household Saints\n",
       "34717                   Start Liquidation\n",
       "10821                            Election\n",
       "38030            A Mother Should Be Loved\n",
       "17729                   Short Sharp Shock\n",
       "Name: title, dtype: object"
      ]
     },
     "metadata": {},
     "execution_count": 5
    }
   ],
   "source": [
    "get_recommendataions('The Godfather', cos_sim, 10)"
   ]
  },
  {
   "source": [
    "# Content-based Recommendataion"
   ],
   "cell_type": "markdown",
   "metadata": {}
  },
  {
   "cell_type": "code",
   "execution_count": 2,
   "metadata": {},
   "outputs": [],
   "source": [
    "# Add more content\n",
    "metadata['id'] = metadata[metadata['id'].apply(lambda x: x.isnumeric())]['id'].astype(int) # Remove non-numeric ID\n",
    "credits = pd.read_csv('data/credits.csv')\n",
    "keywords = pd.read_csv('data/keywords.csv')\n",
    "\n",
    "metadata = metadata.merge(credits, on='id')\n",
    "metadata = metadata.merge(keywords, on='id')\n",
    "\n",
    "# Transform credits and keywords\n",
    "for feature in ['cast', 'crew', 'keywords', 'genres']:\n",
    "    metadata[feature] = metadata[feature].apply(literal_eval)"
   ]
  },
  {
   "cell_type": "code",
   "execution_count": 3,
   "metadata": {},
   "outputs": [],
   "source": [
    "# Utility methods for feature engineering\n",
    "def get_director(crew):\n",
    "    director = list(filter(lambda c: c['job'] == 'Director', crew))\n",
    "    return director[0]['name'] if director else np.nan\n",
    "\n",
    "def get_list(data, field_name):\n",
    "    values = [d[field_name] for d in data]\n",
    "    return values[:3]\n",
    "\n",
    "def clean_str(data):\n",
    "    return str.lower(data.replace(' ', '')) if data is not np.nan else ''\n",
    "\n",
    "def clean_str_list(data):\n",
    "    return [str.lower(s.replace(' ', '')) for s in data]"
   ]
  },
  {
   "cell_type": "code",
   "execution_count": 4,
   "metadata": {},
   "outputs": [
    {
     "output_type": "execute_result",
     "data": {
      "text/plain": [
       "                    original_title         director  \\\n",
       "0                        Toy Story     johnlasseter   \n",
       "1                          Jumanji      joejohnston   \n",
       "2                 Grumpier Old Men     howarddeutch   \n",
       "3                Waiting to Exhale   forestwhitaker   \n",
       "4      Father of the Bride Part II     charlesshyer   \n",
       "...                            ...              ...   \n",
       "46623                      رگ خواب  hamidnematollah   \n",
       "46624          Siglo ng Pagluluwal          lavdiaz   \n",
       "46625                     Betrayal     markl.lester   \n",
       "46626          Satana likuyushchiy  yakovprotazanov   \n",
       "46627                     Queerama     daisyasquith   \n",
       "\n",
       "                                                   cast  \\\n",
       "0                      [tomhanks, timallen, donrickles]   \n",
       "1           [robinwilliams, jonathanhyde, kirstendunst]   \n",
       "2              [waltermatthau, jacklemmon, ann-margret]   \n",
       "3        [whitneyhouston, angelabassett, lorettadevine]   \n",
       "4               [stevemartin, dianekeaton, martinshort]   \n",
       "...                                                 ...   \n",
       "46623          [leilahatami, kouroshtahami, elhamkorda]   \n",
       "46624           [angelaquino, perrydizon, hazelorencio]   \n",
       "46625          [erikaeleniak, adambaldwin, juliedupage]   \n",
       "46626  [iwanmosschuchin, nathalielissenko, pavelpavlov]   \n",
       "46627                                                []   \n",
       "\n",
       "                                                keywords  \\\n",
       "0                                   [jealousy, toy, boy]   \n",
       "1      [boardgame, disappearance, basedonchildren'sbook]   \n",
       "2            [fishing, bestfriend, duringcreditsstinger]   \n",
       "3      [basedonnovel, interracialrelationship, single...   \n",
       "4                      [baby, midlifecrisis, confidence]   \n",
       "...                                                  ...   \n",
       "46623                                       [tragiclove]   \n",
       "46624                              [artist, play, pinoy]   \n",
       "46625                                                 []   \n",
       "46626                                                 []   \n",
       "46627                                                 []   \n",
       "\n",
       "                             genres  \n",
       "0       [animation, comedy, family]  \n",
       "1      [adventure, fantasy, family]  \n",
       "2                 [romance, comedy]  \n",
       "3          [comedy, drama, romance]  \n",
       "4                          [comedy]  \n",
       "...                             ...  \n",
       "46623               [drama, family]  \n",
       "46624                       [drama]  \n",
       "46625     [action, drama, thriller]  \n",
       "46626                            []  \n",
       "46627                            []  \n",
       "\n",
       "[46628 rows x 5 columns]"
      ],
      "text/html": "<div>\n<style scoped>\n    .dataframe tbody tr th:only-of-type {\n        vertical-align: middle;\n    }\n\n    .dataframe tbody tr th {\n        vertical-align: top;\n    }\n\n    .dataframe thead th {\n        text-align: right;\n    }\n</style>\n<table border=\"1\" class=\"dataframe\">\n  <thead>\n    <tr style=\"text-align: right;\">\n      <th></th>\n      <th>original_title</th>\n      <th>director</th>\n      <th>cast</th>\n      <th>keywords</th>\n      <th>genres</th>\n    </tr>\n  </thead>\n  <tbody>\n    <tr>\n      <th>0</th>\n      <td>Toy Story</td>\n      <td>johnlasseter</td>\n      <td>[tomhanks, timallen, donrickles]</td>\n      <td>[jealousy, toy, boy]</td>\n      <td>[animation, comedy, family]</td>\n    </tr>\n    <tr>\n      <th>1</th>\n      <td>Jumanji</td>\n      <td>joejohnston</td>\n      <td>[robinwilliams, jonathanhyde, kirstendunst]</td>\n      <td>[boardgame, disappearance, basedonchildren'sbook]</td>\n      <td>[adventure, fantasy, family]</td>\n    </tr>\n    <tr>\n      <th>2</th>\n      <td>Grumpier Old Men</td>\n      <td>howarddeutch</td>\n      <td>[waltermatthau, jacklemmon, ann-margret]</td>\n      <td>[fishing, bestfriend, duringcreditsstinger]</td>\n      <td>[romance, comedy]</td>\n    </tr>\n    <tr>\n      <th>3</th>\n      <td>Waiting to Exhale</td>\n      <td>forestwhitaker</td>\n      <td>[whitneyhouston, angelabassett, lorettadevine]</td>\n      <td>[basedonnovel, interracialrelationship, single...</td>\n      <td>[comedy, drama, romance]</td>\n    </tr>\n    <tr>\n      <th>4</th>\n      <td>Father of the Bride Part II</td>\n      <td>charlesshyer</td>\n      <td>[stevemartin, dianekeaton, martinshort]</td>\n      <td>[baby, midlifecrisis, confidence]</td>\n      <td>[comedy]</td>\n    </tr>\n    <tr>\n      <th>...</th>\n      <td>...</td>\n      <td>...</td>\n      <td>...</td>\n      <td>...</td>\n      <td>...</td>\n    </tr>\n    <tr>\n      <th>46623</th>\n      <td>رگ خواب</td>\n      <td>hamidnematollah</td>\n      <td>[leilahatami, kouroshtahami, elhamkorda]</td>\n      <td>[tragiclove]</td>\n      <td>[drama, family]</td>\n    </tr>\n    <tr>\n      <th>46624</th>\n      <td>Siglo ng Pagluluwal</td>\n      <td>lavdiaz</td>\n      <td>[angelaquino, perrydizon, hazelorencio]</td>\n      <td>[artist, play, pinoy]</td>\n      <td>[drama]</td>\n    </tr>\n    <tr>\n      <th>46625</th>\n      <td>Betrayal</td>\n      <td>markl.lester</td>\n      <td>[erikaeleniak, adambaldwin, juliedupage]</td>\n      <td>[]</td>\n      <td>[action, drama, thriller]</td>\n    </tr>\n    <tr>\n      <th>46626</th>\n      <td>Satana likuyushchiy</td>\n      <td>yakovprotazanov</td>\n      <td>[iwanmosschuchin, nathalielissenko, pavelpavlov]</td>\n      <td>[]</td>\n      <td>[]</td>\n    </tr>\n    <tr>\n      <th>46627</th>\n      <td>Queerama</td>\n      <td>daisyasquith</td>\n      <td>[]</td>\n      <td>[]</td>\n      <td>[]</td>\n    </tr>\n  </tbody>\n</table>\n<p>46628 rows × 5 columns</p>\n</div>"
     },
     "metadata": {},
     "execution_count": 4
    }
   ],
   "source": [
    "metadata['director'] = metadata['crew'].apply(get_director)\n",
    "metadata['director'] = metadata['director'].apply(clean_str)\n",
    "for feature in ['cast', 'keywords', 'genres']:\n",
    "    metadata[feature] = metadata[feature].apply(get_list, field_name='name') # Get first 3 stars\n",
    "    metadata[feature] = metadata[feature].apply(clean_str_list)\n",
    "    \n",
    "metadata[['original_title', 'director', 'cast', 'keywords', 'genres']]"
   ]
  },
  {
   "cell_type": "code",
   "execution_count": 42,
   "metadata": {},
   "outputs": [],
   "source": [
    "def create_soup(data):\n",
    "    soup = ''\n",
    "    for feature in ['keywords', 'cast', 'genres']:\n",
    "        soup += '{0} '.format(' '.join(data[feature]))\n",
    "    return soup + ' ' + data['director']"
   ]
  },
  {
   "cell_type": "code",
   "execution_count": 43,
   "metadata": {
    "tags": []
   },
   "outputs": [
    {
     "output_type": "execute_result",
     "data": {
      "text/plain": [
       "(46628, 73881)"
      ]
     },
     "metadata": {},
     "execution_count": 43
    }
   ],
   "source": [
    "metadata['soup'] = metadata.apply(create_soup, axis=1)\n",
    "count_vectorizer = CountVectorizer(stop_words='english')\n",
    "count_matrix = count_vectorizer.fit_transform(metadata['soup'])\n",
    "count_matrix.shape"
   ]
  },
  {
   "cell_type": "code",
   "execution_count": 44,
   "metadata": {},
   "outputs": [],
   "source": [
    "cos_sim = cosine_similarity(count_matrix, count_matrix)"
   ]
  },
  {
   "cell_type": "code",
   "execution_count": 47,
   "metadata": {},
   "outputs": [
    {
     "output_type": "execute_result",
     "data": {
      "text/plain": [
       "841                       The Godfather\n",
       "1934            The Godfather: Part III\n",
       "1199             The Godfather: Part II\n",
       "15609                   The Rain People\n",
       "18940                         Last Exit\n",
       "34488                              Rege\n",
       "35802            Manuscripts Don't Burn\n",
       "35803            Manuscripts Don't Burn\n",
       "8001     The Night of the Following Day\n",
       "18261                 The Son of No One\n",
       "Name: title, dtype: object"
      ]
     },
     "metadata": {},
     "execution_count": 47
    }
   ],
   "source": [
    "get_recommendataions('The Godfather', cos_sim, 10)"
   ]
  },
  {
   "cell_type": "code",
   "execution_count": null,
   "metadata": {},
   "outputs": [],
   "source": []
  }
 ]
}
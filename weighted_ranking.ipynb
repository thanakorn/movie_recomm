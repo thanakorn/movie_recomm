{
 "metadata": {
  "language_info": {
   "codemirror_mode": {
    "name": "ipython",
    "version": 3
   },
   "file_extension": ".py",
   "mimetype": "text/x-python",
   "name": "python",
   "nbconvert_exporter": "python",
   "pygments_lexer": "ipython3",
   "version": "3.7.9"
  },
  "orig_nbformat": 4,
  "kernelspec": {
   "name": "python3",
   "display_name": "Python 3.7.9 64-bit ('ml-sandbox': conda)"
  },
  "interpreter": {
   "hash": "63f5c4c81e28ff0238c8c3b729b1fd8b6aec87fa24f076e3e02e721acc6acb72"
  }
 },
 "nbformat": 4,
 "nbformat_minor": 2,
 "cells": [
  {
   "cell_type": "code",
   "execution_count": 12,
   "metadata": {},
   "outputs": [],
   "source": [
    "import pandas as pd\n",
    "\n",
    "metadata = pd.read_csv('data/movies_metadata.csv', low_memory=False)\n",
    "avg_rating = metadata['vote_average'].mean()\n",
    "top_vote_count = metadata['vote_count'].quantile(0.9)\n",
    "top_movies = metadata[metadata['vote_count'] >= top_vote_count]"
   ]
  },
  {
   "cell_type": "code",
   "execution_count": 13,
   "metadata": {},
   "outputs": [],
   "source": [
    "def weighted_ranking(data, min_vote_count, avg_rating):\n",
    "    vote_count = data['vote_count']\n",
    "    rating = data['vote_average']\n",
    "    return ((vote_count / (vote_count + min_vote_count)) * rating) + ((min_vote_count / (vote_count + min_vote_count)) * avg_rating)"
   ]
  },
  {
   "cell_type": "code",
   "execution_count": 14,
   "metadata": {},
   "outputs": [
    {
     "output_type": "stream",
     "name": "stderr",
     "text": [
      "ipykernel_launcher:1: SettingWithCopyWarning: \nA value is trying to be set on a copy of a slice from a DataFrame.\nTry using .loc[row_indexer,col_indexer] = value instead\n\nSee the caveats in the documentation: https://pandas.pydata.org/pandas-docs/stable/user_guide/indexing.html#returning-a-view-versus-a-copy\n"
     ]
    }
   ],
   "source": [
    "top_movies['score'] = top_movies.apply(weighted_ranking, axis=1, min_vote_count=top_vote_count, avg_rating=avg_rating)"
   ]
  },
  {
   "cell_type": "code",
   "execution_count": 19,
   "metadata": {},
   "outputs": [
    {
     "output_type": "execute_result",
     "data": {
      "text/plain": [
       "                             title  vote_average  vote_count     score\n",
       "314       The Shawshank Redemption           8.5      8358.0  8.445869\n",
       "834                  The Godfather           8.5      6024.0  8.425439\n",
       "10309  Dilwale Dulhania Le Jayenge           9.1       661.0  8.421453\n",
       "12481              The Dark Knight           8.3     12269.0  8.265477\n",
       "2843                    Fight Club           8.3      9678.0  8.256385\n",
       "...                            ...           ...         ...       ...\n",
       "9710               Son of the Mask           3.6       346.0  4.238168\n",
       "12911               Disaster Movie           3.1       250.0  4.082715\n",
       "3471             Battlefield Earth           3.0       259.0  3.999793\n",
       "11557                   Epic Movie           3.2       334.0  3.983225\n",
       "13566         Dragonball Evolution           2.9       475.0  3.584903\n",
       "\n",
       "[4555 rows x 4 columns]"
      ],
      "text/html": "<div>\n<style scoped>\n    .dataframe tbody tr th:only-of-type {\n        vertical-align: middle;\n    }\n\n    .dataframe tbody tr th {\n        vertical-align: top;\n    }\n\n    .dataframe thead th {\n        text-align: right;\n    }\n</style>\n<table border=\"1\" class=\"dataframe\">\n  <thead>\n    <tr style=\"text-align: right;\">\n      <th></th>\n      <th>title</th>\n      <th>vote_average</th>\n      <th>vote_count</th>\n      <th>score</th>\n    </tr>\n  </thead>\n  <tbody>\n    <tr>\n      <th>314</th>\n      <td>The Shawshank Redemption</td>\n      <td>8.5</td>\n      <td>8358.0</td>\n      <td>8.445869</td>\n    </tr>\n    <tr>\n      <th>834</th>\n      <td>The Godfather</td>\n      <td>8.5</td>\n      <td>6024.0</td>\n      <td>8.425439</td>\n    </tr>\n    <tr>\n      <th>10309</th>\n      <td>Dilwale Dulhania Le Jayenge</td>\n      <td>9.1</td>\n      <td>661.0</td>\n      <td>8.421453</td>\n    </tr>\n    <tr>\n      <th>12481</th>\n      <td>The Dark Knight</td>\n      <td>8.3</td>\n      <td>12269.0</td>\n      <td>8.265477</td>\n    </tr>\n    <tr>\n      <th>2843</th>\n      <td>Fight Club</td>\n      <td>8.3</td>\n      <td>9678.0</td>\n      <td>8.256385</td>\n    </tr>\n    <tr>\n      <th>...</th>\n      <td>...</td>\n      <td>...</td>\n      <td>...</td>\n      <td>...</td>\n    </tr>\n    <tr>\n      <th>9710</th>\n      <td>Son of the Mask</td>\n      <td>3.6</td>\n      <td>346.0</td>\n      <td>4.238168</td>\n    </tr>\n    <tr>\n      <th>12911</th>\n      <td>Disaster Movie</td>\n      <td>3.1</td>\n      <td>250.0</td>\n      <td>4.082715</td>\n    </tr>\n    <tr>\n      <th>3471</th>\n      <td>Battlefield Earth</td>\n      <td>3.0</td>\n      <td>259.0</td>\n      <td>3.999793</td>\n    </tr>\n    <tr>\n      <th>11557</th>\n      <td>Epic Movie</td>\n      <td>3.2</td>\n      <td>334.0</td>\n      <td>3.983225</td>\n    </tr>\n    <tr>\n      <th>13566</th>\n      <td>Dragonball Evolution</td>\n      <td>2.9</td>\n      <td>475.0</td>\n      <td>3.584903</td>\n    </tr>\n  </tbody>\n</table>\n<p>4555 rows × 4 columns</p>\n</div>"
     },
     "metadata": {},
     "execution_count": 19
    }
   ],
   "source": [
    "top_movies = top_movies.sort_values('score', ascending=False)\n",
    "top_movies[['title', 'vote_average', 'vote_count', 'score']]"
   ]
  },
  {
   "cell_type": "code",
   "execution_count": null,
   "metadata": {},
   "outputs": [],
   "source": []
  }
 ]
}